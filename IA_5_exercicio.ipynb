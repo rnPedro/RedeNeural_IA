{
  "nbformat": 4,
  "nbformat_minor": 0,
  "metadata": {
    "colab": {
      "provenance": [],
      "authorship_tag": "ABX9TyPVzCdhJv4XcFXJNwwxFEAl",
      "include_colab_link": true
    },
    "kernelspec": {
      "name": "python3",
      "display_name": "Python 3"
    },
    "language_info": {
      "name": "python"
    }
  },
  "cells": [
    {
      "cell_type": "markdown",
      "metadata": {
        "id": "view-in-github",
        "colab_type": "text"
      },
      "source": [
        "<a href=\"https://colab.research.google.com/github/rnPedro/RedeNeural_IA/blob/main/IA_5_exercicio.ipynb\" target=\"_parent\"><img src=\"https://colab.research.google.com/assets/colab-badge.svg\" alt=\"Open In Colab\"/></a>"
      ]
    },
    {
      "cell_type": "code",
      "execution_count": null,
      "metadata": {
        "colab": {
          "base_uri": "https://localhost:8080/"
        },
        "id": "0efzi4BIjamf",
        "outputId": "f6f4165a-d422-48fa-a47c-e9d8bf42150d"
      },
      "outputs": [
        {
          "output_type": "stream",
          "name": "stdout",
          "text": [
            "Downloading data from https://storage.googleapis.com/tensorflow/tf-keras-datasets/mnist.npz\n",
            "11490434/11490434 [==============================] - 0s 0us/step\n",
            "imagens de Treino: 60000\n",
            "imagens de Teste: 10000\n",
            "\n",
            "\n"
          ]
        }
      ],
      "source": [
        "\n",
        "import tensorflow as tf\n",
        "import tensorflow_datasets\n",
        "import tensorflow.keras as keras\n",
        "\n",
        "from keras.models import model_from_json\n",
        "import matplotlib.pyplot as plt\n",
        "from keras.layers import Dense, Flatten, Conv2D, MaxPooling2D\n",
        "from sklearn.metrics import classification_report\n",
        "import numpy as np\n",
        "\n",
        "\n",
        "mnist = tf.keras.datasets.mnist\n",
        "(x_train, y_train), (x_test, y_test) = mnist.load_data()\n",
        "\n",
        "print(\"imagens de Treino:\" ,len(y_train))\n",
        "print(\"imagens de Teste:\" ,len(x_test))\n",
        "print(\"\\n\")\n",
        "y_train_onehot = keras.utils.to_categorical(y_train, num_classes=10)\n",
        "y_test_onehot = keras.utils.to_categorical(y_test, num_classes=10)"
      ]
    },
    {
      "cell_type": "code",
      "source": [
        "from tensorflow.python.ops.nn_ops import relu\n",
        "x_train = x_train.reshape((x_train.shape[0],28,28,1))\n",
        "x_test = x_test.reshape((x_test.shape[0],28,28,1))\n",
        "\n",
        "\n",
        "model = keras.Sequential([keras.layers.Conv2D(32,(3,3), input_shape=(28,28,1), activation=tf.nn.relu),\n",
        "                           keras.layers.MaxPooling2D((2,2)),\n",
        "                           keras.layers.Flatten(),\n",
        "                           keras.layers.Dropout(0.2),\n",
        "                           keras.layers.Dense(15, activation=tf.nn.relu),\n",
        "                           keras.layers.Dense(15, activation=tf.nn.relu),\n",
        "                           keras.layers.Dense(10, activation=tf.nn.softmax),\n",
        "                           ])\n",
        "\n",
        "adam=keras.optimizers.Adam(lr=0.5)\n",
        "model.compile(optimizer='adam', loss='sparse_categorical_crossentropy', metrics='accuracy')\n",
        "\n",
        "history=model.fit(x_train, y_train, epochs=10, validation_split=0.2)\n"
      ],
      "metadata": {
        "colab": {
          "base_uri": "https://localhost:8080/"
        },
        "id": "egKp5267jeLq",
        "outputId": "64d48b74-bcf5-4122-bbe9-43bd980da1e7"
      },
      "execution_count": null,
      "outputs": [
        {
          "output_type": "stream",
          "name": "stdout",
          "text": [
            "Epoch 1/10\n"
          ]
        },
        {
          "output_type": "stream",
          "name": "stderr",
          "text": [
            "/usr/local/lib/python3.8/dist-packages/keras/optimizers/optimizer_v2/adam.py:110: UserWarning: The `lr` argument is deprecated, use `learning_rate` instead.\n",
            "  super(Adam, self).__init__(name, **kwargs)\n"
          ]
        },
        {
          "output_type": "stream",
          "name": "stdout",
          "text": [
            "1500/1500 [==============================] - 20s 13ms/step - loss: 1.6438 - accuracy: 0.3801 - val_loss: 1.1006 - val_accuracy: 0.5286\n",
            "Epoch 2/10\n",
            "1500/1500 [==============================] - 16s 11ms/step - loss: 0.5368 - accuracy: 0.8131 - val_loss: 0.1900 - val_accuracy: 0.9538\n",
            "Epoch 3/10\n",
            "1500/1500 [==============================] - 17s 11ms/step - loss: 0.1669 - accuracy: 0.9569 - val_loss: 0.1239 - val_accuracy: 0.9672\n",
            "Epoch 4/10\n",
            "1500/1500 [==============================] - 16s 11ms/step - loss: 0.1161 - accuracy: 0.9684 - val_loss: 0.1290 - val_accuracy: 0.9648\n",
            "Epoch 5/10\n",
            "1500/1500 [==============================] - 16s 11ms/step - loss: 0.0977 - accuracy: 0.9716 - val_loss: 0.1039 - val_accuracy: 0.9743\n",
            "Epoch 6/10\n",
            "1500/1500 [==============================] - 16s 11ms/step - loss: 0.0826 - accuracy: 0.9755 - val_loss: 0.1015 - val_accuracy: 0.9724\n",
            "Epoch 7/10\n",
            "1500/1500 [==============================] - 16s 11ms/step - loss: 0.0737 - accuracy: 0.9784 - val_loss: 0.0973 - val_accuracy: 0.9758\n",
            "Epoch 8/10\n",
            "1500/1500 [==============================] - 16s 11ms/step - loss: 0.0629 - accuracy: 0.9811 - val_loss: 0.1055 - val_accuracy: 0.9753\n",
            "Epoch 9/10\n",
            "1500/1500 [==============================] - 16s 11ms/step - loss: 0.0626 - accuracy: 0.9816 - val_loss: 0.0921 - val_accuracy: 0.9753\n",
            "Epoch 10/10\n",
            "1500/1500 [==============================] - 16s 11ms/step - loss: 0.0544 - accuracy: 0.9832 - val_loss: 0.0879 - val_accuracy: 0.9784\n"
          ]
        }
      ]
    },
    {
      "cell_type": "code",
      "source": [
        "\n",
        "predictions = model.predict(x_test, batch_size=128)\n",
        "\n",
        "print(classification_report(y_test_onehot.argmax(axis=1), predictions.argmax(axis=1)))"
      ],
      "metadata": {
        "colab": {
          "base_uri": "https://localhost:8080/"
        },
        "id": "1hkAZaYvjg_V",
        "outputId": "7f6ede8a-eb7e-4b01-ca01-bc6db9356593"
      },
      "execution_count": null,
      "outputs": [
        {
          "output_type": "stream",
          "name": "stdout",
          "text": [
            "79/79 [==============================] - 1s 11ms/step\n",
            "              precision    recall  f1-score   support\n",
            "\n",
            "           0       0.98      0.99      0.99       980\n",
            "           1       0.98      0.99      0.99      1135\n",
            "           2       0.99      0.98      0.98      1032\n",
            "           3       0.98      0.98      0.98      1010\n",
            "           4       0.98      0.98      0.98       982\n",
            "           5       0.96      0.98      0.97       892\n",
            "           6       0.99      0.97      0.98       958\n",
            "           7       0.99      0.97      0.98      1028\n",
            "           8       0.97      0.98      0.97       974\n",
            "           9       0.98      0.97      0.97      1009\n",
            "\n",
            "    accuracy                           0.98     10000\n",
            "   macro avg       0.98      0.98      0.98     10000\n",
            "weighted avg       0.98      0.98      0.98     10000\n",
            "\n"
          ]
        }
      ]
    }
  ]
}